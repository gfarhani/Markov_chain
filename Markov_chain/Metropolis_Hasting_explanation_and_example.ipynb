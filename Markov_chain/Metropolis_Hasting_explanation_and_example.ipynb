{
 "cells": [
  {
   "cell_type": "markdown",
   "metadata": {},
   "source": [
    "*** Here I explain how Metropolis_Hasting work and later I show an example:***\n",
    "\n",
    "The explanation will be LONG!\n",
    "\n",
    "We can apply a process as follow:\n",
    "\n",
    "1) For $k = 1, 2, ...$ We sample x' from a distribution $Q(x^k \\rightarrow x')$\n",
    "\n",
    "2) Accept proposal x' with probability $A(x^k \\rightarrow x')$\n",
    "\n",
    "So,  $Q(x \\rightarrow x')$ defines the probability to go from x to x' and $A(x \\rightarrow x')$ is the so called critic which gives the probabilty of accepting the proposal. And, we can defime the transition probabilty $T(x \\rightarrow x')$ which is the product of the proposed dist. and our critic. \n",
    "\n",
    "We want our MC to generate point from the desired distribution which a stationary state (We assume the posteriori we want to sample is a stationary state of an MC):\n",
    "\n",
    "$\\pi(x') = \\sum_x \\pi(x) T(x \\rightarrow x')$\n",
    "\n",
    "As the transition matrix here is a product of $Q$ and $A$ we try to find $A$ such that the above equation being sattisfied. \n",
    "\n",
    "Before getting to find A, there is a short cut for definition of stationary state which is:\n",
    "\n",
    "if $\\pi(x) T(x \\rightarrow x') = \\pi(x') T(x' \\rightarrow x)$ then $\\pi(x)$ is stationary. \n",
    "The proof is really easy! and is presented below:\n",
    "\n",
    "1) We use summation operator for both sides of the equation:\n",
    "\n",
    "$\\sum_x \\pi(x) T(x \\rightarrow x') = \\sum_x \\pi(x') T(x' \\rightarrow x)$\n",
    "\n",
    "2) x' is coming out of summation because is independet of x:\n",
    "\n",
    "$\\sum_x \\pi(x) T(x \\rightarrow x') = \\pi(x') \\sum_x T(x' \\rightarrow x)$\n",
    "\n",
    "3) As sum over all the possible outcomes of gping form x' to x is one, the above equation becomes: \n",
    "\n",
    "$\\sum_x \\pi(x) T(x \\rightarrow x') = \\pi(x')$\n",
    "\n",
    "***Now lets get back to our problem, we are looking for a critic such that the MC created by it will produce samples from a stationary dist. $\\pi(x)$***\n",
    "***So we check for a critic A such that it makes a transition matrix T that satisfies stationary state equation of the form:***\n",
    "\n",
    "$\\pi(x) T(x \\rightarrow x') = \\pi(x') T(x' \\rightarrow x)$\n",
    "\n",
    "This equation can be re-written as follows:\n",
    "\n",
    "$\\pi(x) Q(x \\rightarrow x') A(x \\rightarrow x') = \\pi(x') Q(x' \\rightarrow x) A(x' \\rightarrow x)$ which can be re_arranges as follows:\n",
    "\n",
    "$\\frac{A(x \\rightarrow x')}{A(x' \\rightarrow x)} = \\frac{\\pi(x') Q(x' \\rightarrow x)}{\\pi(x) Q(x \\rightarrow x')}$\n",
    "\n",
    "Doing a bit of algebra we can show:\n",
    "\n",
    "$A(x \\rightarrow x') = min (1, \\frac{\\pi(x') Q(x' \\rightarrow x)}{\\pi(x) Q(x \\rightarrow x')})$\n",
    "\n",
    "*** To summerize the whole thing:***\n",
    "\n",
    "For $k = 1, 2, 3, ...$ we cample from any (wrong) $Q(x^k \\rightarrow x')$ and we accept the x' with probability $A(x \\rightarrow x')$.  \n",
    "\n",
    "***This method is VERY usefull when we dont know the normalization constant of our posterior dist. ***\n",
    "\n",
    "***The algorithm is as follows:***\n",
    "\n",
    "1) pick an initial $x_0$\n",
    " \n",
    "2)Iterate:\n",
    "\n",
    "        Generate a random candidate according to Q\n",
    "        \n",
    "        Calculate the acceptence probabilty A\n",
    "        \n",
    "        Accept or reject:\n",
    "        \n",
    "                Generate a randon number u from a uniform dist.\n",
    "                \n",
    "                if u <= A : accept\n",
    "                \n",
    "                else: reject\n",
    "                \n",
    "\n",
    "\n",
    "\n",
    "\n",
    "\n"
   ]
  },
  {
   "cell_type": "code",
   "execution_count": 2,
   "metadata": {},
   "outputs": [],
   "source": [
    "#Here is an example of a simple linear regression (y = theta*x). We define the likelihood based on the chi squared error between the prediction and true values of y for updated values of theta. \n",
    "\n",
    "#We assume that Q is a Gasussian dist. and we sample from it.\n",
    "\n",
    "import math\n",
    "import numpy as np\n",
    "import numpy \n",
    "\n",
    "#define values for x and y\n",
    "x = np.array([1,2,3,4, 7, 9])\n",
    "y = np.array([3,6, 9, 12, 21, 27])\n",
    "\n",
    "# the likelihood function:\n",
    "def likelihood(x,y, theta):\n",
    "    in_ = ((y-theta*x)**2)/len(x)\n",
    "    return np.exp(-np.sum(in_))\n",
    "\n",
    "\n",
    "theta_current = 0\n",
    "current_likelihood = likelihood(x,y, theta_current)\n",
    "chain = []\n",
    "\n",
    "# the chain:\n",
    "for i in range(5000):\n",
    "    \n",
    "    theta_proposed = theta_current+0.1*np.random.randn()\n",
    "    proposed_likelihood = likelihood(x,y,theta_proposed)\n",
    "    ratio = (proposed_likelihood)/(current_likelihood)\n",
    "    A = min(1, ratio)\n",
    "    \n",
    "    u = np.random.rand()\n",
    "    if u<= A:\n",
    "        theta_current = theta_proposed\n",
    "        current_likelihood = proposed_likelihood\n",
    "        \n",
    "    chain.append(theta_current)\n",
    "    "
   ]
  },
  {
   "cell_type": "code",
   "execution_count": 6,
   "metadata": {},
   "outputs": [
    {
     "data": {
      "text/plain": [
       "[<matplotlib.lines.Line2D at 0x11d750ba8>]"
      ]
     },
     "execution_count": 6,
     "metadata": {},
     "output_type": "execute_result"
    },
    {
     "data": {
      "image/png": "[encoded data removed]",
      "text/plain": [
       "<Figure size 432x288 with 1 Axes>"
      ]
     },
     "metadata": {},
     "output_type": "display_data"
    }
   ],
   "source": [
    "import matplotlib.pyplot as plt\n",
    "plt.plot(chain)"
   ]
  },
  {
   "cell_type": "code",
   "execution_count": 53,
   "metadata": {},
   "outputs": [
    {
     "name": "stdout",
     "output_type": "stream",
     "text": [
      "the mean value for theta is: 2.979833449804161\n",
      "the standard deviation for theta is: 0.25091073227924526\n"
     ]
    }
   ],
   "source": [
    "print(\"the mean value for theta is:\", np.mean(chain))\n",
    "print(\"the standard deviation for theta is:\", np.std(chain))"
   ]
  },
  {
   "cell_type": "markdown",
   "metadata": {},
   "source": [
    "***Second Example: We want to sample from an exponential function:***\n",
    "    $\\pi(x) = \\exp (x)$\n",
    "We define an exponential function as the target, and we fun MCMC to sample from it. \n",
    "if we plot a histogram from the generated samples we clearly can see the exponential decay.  "
   ]
  },
  {
   "cell_type": "code",
   "execution_count": 59,
   "metadata": {},
   "outputs": [],
   "source": [
    "\n",
    "def target(x):\n",
    "    if x<0:\n",
    "        target = 0\n",
    "    else:\n",
    "        target = np.exp(-x)\n",
    "    return target\n",
    "\n",
    "\n",
    "x_current = 0\n",
    "current_target = target(x_current)\n",
    "chain = []\n",
    "\n",
    "# the chain:\n",
    "for i in range(100000):\n",
    "    \n",
    "    x_proposed = x_current+np.random.randn()\n",
    "    proposed_target = target(x_proposed)\n",
    "    ratio = (proposed_target)/(current_target)\n",
    "    A = min(1, ratio)\n",
    "    \n",
    "    u = np.random.rand()\n",
    "    if u<= A:\n",
    "        x_current = x_proposed\n",
    "        current_taget = proposed_target\n",
    "        \n",
    "    chain.append(x_current)\n",
    "    "
   ]
  },
  {
   "cell_type": "code",
   "execution_count": 61,
   "metadata": {},
   "outputs": [
    {
     "data": {
      "text/plain": [
       "(array([16959., 14505., 11694.,  9738.,  8173.,  6673.,  5328.,  4701.,\n",
       "         3659.,  3319.,  2471.,  2223.,  1628.,  1743.,  1280.,  1250.,\n",
       "          718.,   985.,   654.,   400.,   412.,   306.,   227.,   182.,\n",
       "           93.,     0.,   227.,   196.,   194.,    62.]),\n",
       " array([7.21758246e-05, 1.85659351e-01, 3.71246525e-01, 5.56833700e-01,\n",
       "        7.42420875e-01, 9.28008050e-01, 1.11359522e+00, 1.29918240e+00,\n",
       "        1.48476957e+00, 1.67035675e+00, 1.85594392e+00, 2.04153110e+00,\n",
       "        2.22711827e+00, 2.41270545e+00, 2.59829262e+00, 2.78387980e+00,\n",
       "        2.96946697e+00, 3.15505415e+00, 3.34064132e+00, 3.52622850e+00,\n",
       "        3.71181567e+00, 3.89740285e+00, 4.08299002e+00, 4.26857720e+00,\n",
       "        4.45416437e+00, 4.63975155e+00, 4.82533872e+00, 5.01092590e+00,\n",
       "        5.19651307e+00, 5.38210025e+00, 5.56768742e+00]),\n",
       " <a list of 30 Patch objects>)"
      ]
     },
     "execution_count": 61,
     "metadata": {},
     "output_type": "execute_result"
    },
    {
     "data": {
      "image/png": "[encoded data removed]",
      "text/plain": [
       "<Figure size 432x288 with 1 Axes>"
      ]
     },
     "metadata": {},
     "output_type": "display_data"
    }
   ],
   "source": [
    "plt.hist(chain, bins = 30)\n"
   ]
  },
  {
   "cell_type": "code",
   "execution_count": null,
   "metadata": {},
   "outputs": [],
   "source": []
  }
 ],
 "metadata": {
  "kernelspec": {
   "display_name": "Python 3",
   "language": "python",
   "name": "python3"
  },
  "language_info": {
   "codemirror_mode": {
    "name": "ipython",
    "version": 3
   },
   "file_extension": ".py",
   "mimetype": "text/x-python",
   "name": "python",
   "nbconvert_exporter": "python",
   "pygments_lexer": "ipython3",
   "version": "3.6.4"
  }
 },
 "nbformat": 4,
 "nbformat_minor": 2
}
