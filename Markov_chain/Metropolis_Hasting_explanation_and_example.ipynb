{
 "cells": [
  {
   "cell_type": "markdown",
   "metadata": {},
   "source": [
    "*** Here I explain how Metropolis_Hasting work and later I show an example:***\n",
    "\n",
    "The explanation will be LONG!\n",
    "\n",
    "We can apply a process as follow:\n",
    "\n",
    "1) For $k = 1, 2, ...$ We sample x' from a distribution $Q(x^k \\rightarrow x')$\n",
    "\n",
    "2) Accept proposal x' with probability $A(x^k \\rightarrow x')$\n",
    "\n",
    "So,  $Q(x \\rightarrow x')$ defines the probability to go from x to x' and $A(x \\rightarrow x')$ is the so called critic which gives the probabilty of accepting the proposal. And, we can defime the transition probabilty $T(x \\rightarrow x')$ which is the product of the proposed dist. and our critic. \n",
    "\n",
    "We want our MC to generate point from the desired distribution which a stationary state (We assume the posteriori we want to sample is a stationary state of an MC):\n",
    "\n",
    "$\\pi(x') = \\sum_x \\pi(x) T(x \\rightarrow x')$\n",
    "\n",
    "As the transition matrix here is a product of $Q$ and $A$ we try to find $A$ such that the above equation being sattisfied. \n",
    "\n",
    "Before getting to find A, there is a short cut for definition of stationary state which is:\n",
    "\n",
    "if $\\pi(x) T(x \\rightarrow x') = \\pi(x') T(x' \\rightarrow x)$ then $\\pi(x)$ is stationary. \n",
    "The proof is really easy! and is presented below:\n",
    "\n",
    "1) We use summation operator for both sides of the equation:\n",
    "\n",
    "$\\sum_x \\pi(x) T(x \\rightarrow x') = \\sum_x \\pi(x') T(x' \\rightarrow x)$\n",
    "\n",
    "2) x' is coming out of summation because is independet of x:\n",
    "\n",
    "$\\sum_x \\pi(x) T(x \\rightarrow x') = \\pi(x') \\sum_x T(x' \\rightarrow x)$\n",
    "\n",
    "3) As sum over all the possible outcomes of gping form x' to x is one, the above equation becomes: \n",
    "\n",
    "$\\sum_x \\pi(x) T(x \\rightarrow x') = \\pi(x')$\n",
    "\n",
    "***Now lets get back to our problem, we are looking for a critic such that the MC created by it will produce samples from a stattionary dist. $\\pi(x)$***\n",
    "***So we check for a critic A such that it makes a transition matrix T that satisfies stationary state equation of the form:***\n",
    "\n",
    "$\\pi(x) T(x \\rightarrow x') = \\pi(x') T(x' \\rightarrow x)$\n",
    "\n",
    "\n",
    "\n"
   ]
  },
  {
   "cell_type": "code",
   "execution_count": null,
   "metadata": {},
   "outputs": [],
   "source": []
  }
 ],
 "metadata": {
  "kernelspec": {
   "display_name": "Python 3",
   "language": "python",
   "name": "python3"
  },
  "language_info": {
   "codemirror_mode": {
    "name": "ipython",
    "version": 3
   },
   "file_extension": ".py",
   "mimetype": "text/x-python",
   "name": "python",
   "nbconvert_exporter": "python",
   "pygments_lexer": "ipython3",
   "version": "3.6.4"
  }
 },
 "nbformat": 4,
 "nbformat_minor": 2
}
