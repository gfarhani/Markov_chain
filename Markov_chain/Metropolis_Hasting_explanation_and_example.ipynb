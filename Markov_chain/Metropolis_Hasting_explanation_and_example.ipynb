{
 "cells": [
  {
   "cell_type": "markdown",
   "metadata": {},
   "source": [
    "*** Here I explain how Metropolis_Hasting work and later I show an example:***\n",
    "\n",
    "The explanation will be LONG!\n",
    "\n",
    "We can apply a process as follow:\n",
    "\n",
    "1) For $k = 1, 2, ...$ We sample x' from a distribution $Q(x^k \\rightarrow x')$\n",
    "\n",
    "2) Accept proposal x' with probability $A(x^k \\rightarrow x')$\n",
    "\n",
    "So,  $Q(x \\rightarrow x')$ defines the probability to go from x to x' and $A(x \\rightarrow x')$ is the so called critic which gives the probabilty of accepting the proposal. And, we can defime the transition probabilty $T(x \\rightarrow x')$ which is the product of the proposed dist. and our critic. \n",
    "\n",
    "We want our MC to generate point from the desired distribution which a stationary state (We assume the posteriori we want to sample is a stationary state of an MC):\n",
    "\n",
    "$\\pi(x') = \\sum_x \\pi(x) T(x \\rightarrow x')$\n",
    "\n",
    "As the transition matrix here is a product of $Q$ and $A$ we try to find $A$ such that the above equation being sattisfied. \n",
    "\n",
    "Before getting to find A, there is a short cut for definition of stationary state which is:\n",
    "\n",
    "if $\\pi(x) T(x \\rightarrow x') = \\pi(x') T(x' \\rightarrow x)$ then $\\pi(x)$ is stationary. \n",
    "The proof is really easy! and is presented below:\n",
    "\n",
    "1) We use summation operator for both sides of the equation:\n",
    "\n",
    "$\\sum_x \\pi(x) T(x \\rightarrow x') = \\sum_x \\pi(x') T(x' \\rightarrow x)$\n",
    "\n",
    "2) x' is coming out of summation because is independet of x:\n",
    "\n",
    "$\\sum_x \\pi(x) T(x \\rightarrow x') = \\pi(x') \\sum_x T(x' \\rightarrow x)$\n",
    "\n",
    "3) As sum over all the possible outcomes of gping form x' to x is one, the above equation becomes: \n",
    "\n",
    "$\\sum_x \\pi(x) T(x \\rightarrow x') = \\pi(x')$\n",
    "\n",
    "***Now lets get back to our problem, we are looking for a critic such that the MC created by it will produce samples from a stationary dist. $\\pi(x)$***\n",
    "***So we check for a critic A such that it makes a transition matrix T that satisfies stationary state equation of the form:***\n",
    "\n",
    "$\\pi(x) T(x \\rightarrow x') = \\pi(x') T(x' \\rightarrow x)$\n",
    "\n",
    "This equation can be re-written as follows:\n",
    "\n",
    "$\\pi(x) Q(x \\rightarrow x') A(x \\rightarrow x') = \\pi(x') Q(x' \\rightarrow x) A(x' \\rightarrow x)$ which can be re_arranges as follows:\n",
    "\n",
    "$\\frac{A(x \\rightarrow x')}{A(x' \\rightarrow x)} = \\frac{\\pi(x') Q(x' \\rightarrow x)}{\\pi(x) Q(x \\rightarrow x')}$\n",
    "\n",
    "Doing a bit of algebra we can show:\n",
    "\n",
    "$A(x \\rightarrow x') = min (1, \\frac{\\pi(x') Q(x' \\rightarrow x)}{\\pi(x) Q(x \\rightarrow x')})$\n",
    "\n",
    "*** To summerize the whole thing:***\n",
    "\n",
    "For $k = 1, 2, 3, ...$ we cample from any (wrong) $Q(x^k \\rightarrow x')$ and we accept the x' with probability $A(x \\rightarrow x')$.  \n",
    "\n",
    "***This method is VERY usefull when we dont know the normalization constant of our posterior dist. ***\n",
    "\n",
    "***The algorithm is as follows:***\n",
    "\n",
    "1) pick an initial $x_0$\n",
    " \n",
    "2)Iterate:\n",
    "\n",
    "        Generate a random candidate according to Q\n",
    "        \n",
    "        Calculate the acceptence probabilty A\n",
    "        \n",
    "        Accept or reject:\n",
    "        \n",
    "                Generate a randon number u from a uniform dist.\n",
    "                \n",
    "                if u <= A : accept\n",
    "                \n",
    "                else: reject\n",
    "                \n",
    "\n",
    "\n",
    "\n",
    "\n",
    "\n"
   ]
  },
  {
   "cell_type": "code",
   "execution_count": 8,
   "metadata": {},
   "outputs": [],
   "source": [
    "#Here is an example of a simple linear regression (y = theta*x). We define the likelihood based on the chi squared error between the prediction and true values of y for updated values of theta. \n",
    "\n",
    "#We assume that Q is a Gasussian dist. and we sample from it.\n",
    "\n",
    "import math\n",
    "import numpy as np\n",
    "import numpy \n",
    "\n",
    "#define values for x and y\n",
    "x = np.array([1,2,3,4, 7, 9])\n",
    "y = np.array([3,6, 9, 12, 21, 27])\n",
    "\n",
    "# the likelihood function:\n",
    "def likelihood(x,y, theta):\n",
    "    in_ = ((y-theta*x)**2)/len(x)\n",
    "    return np.exp(-np.sum(in_))\n",
    "\n",
    "\n",
    "theta_current = 0\n",
    "current_likelihood = likelihood(x,y, theta_current)\n",
    "chain = []\n",
    "\n",
    "# the chain:\n",
    "for i in range(5000):\n",
    "    \n",
    "    theta_proposed = theta_current+0.1*np.random.randn()\n",
    "    proposed_likelihood = likelihood(x,y,theta_proposed)\n",
    "    ratio = (proposed_likelihood)/(current_likelihood)\n",
    "    A = min(1, ratio)\n",
    "    \n",
    "    u = np.random.rand()\n",
    "    if u<= A:\n",
    "        theta_current = theta_proposed\n",
    "        current_likelihood = proposed_likelihood\n",
    "        \n",
    "    chain.append(theta_current)\n",
    "    "
   ]
  },
  {
   "cell_type": "code",
   "execution_count": 9,
   "metadata": {},
   "outputs": [
    {
     "data": {
      "text/plain": [
       "[<matplotlib.lines.Line2D at 0x11cc09be0>]"
      ]
     },
     "execution_count": 9,
     "metadata": {},
     "output_type": "execute_result"
    },
    {
     "data": {
      "image/png": "[encoded data removed]",
      "text/plain": [
       "<Figure size 432x288 with 1 Axes>"
      ]
     },
     "metadata": {},
     "output_type": "display_data"
    }
   ],
   "source": [
    "import matplotlib.pyplot as plt\n",
    "plt.plot(chain)"
   ]
  },
  {
   "cell_type": "code",
   "execution_count": 3,
   "metadata": {},
   "outputs": [
    {
     "name": "stdout",
     "output_type": "stream",
     "text": [
      "the mean value for theta is: 2.9687741520516595\n",
      "the standard deviation for theta is: 0.2903606525479557\n"
     ]
    }
   ],
   "source": [
    "print(\"the mean value for theta is:\", np.mean(chain))\n",
    "print(\"the standard deviation for theta is:\", np.std(chain))"
   ]
  },
  {
   "cell_type": "markdown",
   "metadata": {},
   "source": [
    "***Second Example: We want to sample from an exponential function:***\n",
    "    $\\pi(x) = \\exp (x)$\n",
    "We define an exponential function as the target, and we fun MCMC to sample from it. \n",
    "if we plot a histogram from the generated samples we clearly can see the exponential decay.  "
   ]
  },
  {
   "cell_type": "code",
   "execution_count": 4,
   "metadata": {},
   "outputs": [],
   "source": [
    "\n",
    "def target(x):\n",
    "    if x<0:\n",
    "        target = 0\n",
    "    else:\n",
    "        target = np.exp(-x)\n",
    "    return target\n",
    "\n",
    "\n",
    "x_current = 0\n",
    "current_target = target(x_current)\n",
    "chain = []\n",
    "\n",
    "# the chain:\n",
    "for i in range(100000):\n",
    "    \n",
    "    x_proposed = x_current+np.random.randn()\n",
    "    proposed_target = target(x_proposed)\n",
    "    ratio = (proposed_target)/(current_target)\n",
    "    A = min(1, ratio)\n",
    "    \n",
    "    u = np.random.rand()\n",
    "    if u<= A:\n",
    "        x_current = x_proposed\n",
    "        current_taget = proposed_target\n",
    "        \n",
    "    chain.append(x_current)\n",
    "    "
   ]
  },
  {
   "cell_type": "code",
   "execution_count": 5,
   "metadata": {},
   "outputs": [
    {
     "data": {
      "text/plain": [
       "(array([1.7208e+04, 1.4095e+04, 1.1862e+04, 1.0241e+04, 8.0200e+03,\n",
       "        6.5560e+03, 5.5420e+03, 4.7250e+03, 3.8410e+03, 3.1750e+03,\n",
       "        2.4570e+03, 2.1320e+03, 1.7200e+03, 1.5300e+03, 1.2080e+03,\n",
       "        1.0040e+03, 7.7300e+02, 6.7200e+02, 6.1300e+02, 5.7900e+02,\n",
       "        4.5100e+02, 3.2400e+02, 6.7000e+01, 4.3600e+02, 1.8100e+02,\n",
       "        0.0000e+00, 0.0000e+00, 4.2800e+02, 1.5400e+02, 6.0000e+00]),\n",
       " array([0.        , 0.19372956, 0.38745912, 0.58118868, 0.77491824,\n",
       "        0.9686478 , 1.16237737, 1.35610693, 1.54983649, 1.74356605,\n",
       "        1.93729561, 2.13102517, 2.32475473, 2.51848429, 2.71221385,\n",
       "        2.90594341, 3.09967297, 3.29340253, 3.4871321 , 3.68086166,\n",
       "        3.87459122, 4.06832078, 4.26205034, 4.4557799 , 4.64950946,\n",
       "        4.84323902, 5.03696858, 5.23069814, 5.4244277 , 5.61815726,\n",
       "        5.81188683]),\n",
       " <a list of 30 Patch objects>)"
      ]
     },
     "execution_count": 5,
     "metadata": {},
     "output_type": "execute_result"
    },
    {
     "data": {
      "image/png": "[encoded data removed]",
      "text/plain": [
       "<Figure size 432x288 with 1 Axes>"
      ]
     },
     "metadata": {},
     "output_type": "display_data"
    }
   ],
   "source": [
    "plt.hist(chain, bins = 30)\n"
   ]
  },
  {
   "cell_type": "code",
   "execution_count": null,
   "metadata": {},
   "outputs": [],
   "source": []
  }
 ],
 "metadata": {
  "kernelspec": {
   "display_name": "Python 3",
   "language": "python",
   "name": "python3"
  },
  "language_info": {
   "codemirror_mode": {
    "name": "ipython",
    "version": 3
   },
   "file_extension": ".py",
   "mimetype": "text/x-python",
   "name": "python",
   "nbconvert_exporter": "python",
   "pygments_lexer": "ipython3",
   "version": "3.6.4"
  }
 },
 "nbformat": 4,
 "nbformat_minor": 2
}
