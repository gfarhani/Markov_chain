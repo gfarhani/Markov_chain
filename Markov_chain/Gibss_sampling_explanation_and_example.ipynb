{
 "cells": [
  {
   "cell_type": "markdown",
   "metadata": {},
   "source": [
    "*** This notebook has two parts: ***\n",
    "    \n",
    "*** 1) a VERY long explanation of Gibss sampling ***\n",
    "   \n",
    "*** 2) Implementation of the Gibbs sampling for a linear model! ***"
   ]
  },
  {
   "cell_type": "markdown",
   "metadata": {},
   "source": [
    "\n",
    "*** PART 1 ***\n",
    "\n",
    "Using the idea of Markov Chain and the fact that Markov chain will converge to a steady state. We can build a Monte Carlo process for sampling from a distribuition. Here, we talk about the Gibbs sampling method aa is one of the (Markov Chain Monte Carlo) MCMC methods. \n",
    "We assume we have a distribution of form $P(x_{1}, x_{2}, x_{3})$. Steps we take are listed below, \n",
    "\n",
    "1) Start with initial values ($x_{1}^{0}, x_{2}^{0}, x_{3}^{0}$)\n",
    "\n",
    "2) At each iteration we update one dimention at a time:\n",
    "\n",
    "\n",
    "$x_{1}^{1} \\longrightarrow P(x_{1}| x_{2}^{0}, x_{3}^{0})$\n",
    "\n",
    "$x_{2}^{1} \\longrightarrow P(x_{2}| x_{1}^{1}, x_{3}^{0})$\n",
    "\n",
    "$x_{3}^{1} \\longrightarrow P(x_{3}| x_{1}^{1}, x_{2}^{1})$\n",
    "\n",
    "\n",
    "\n",
    "3) Repeat for $k = 1 ... n$ times so we get: \n",
    "\n",
    "\n",
    "$x_{1}^{k+1} \\longrightarrow P(x_{1}| x_{2}^{k}, x_{3}^{k})$\n",
    "$x_{2}^{k+1} \\longrightarrow P(x_{2}| x_{1}^{k+1}, x_{3}^{k})$\n",
    "$x_{3}^{k+1} \\longrightarrow P(x_{3}| x_{1}^{k+1}, x_{2}^{k+1})$\n",
    "\n",
    "\n",
    "So, each step depends on the previus steps and cannot be done in parallel. \n",
    "\n",
    "But, why Gibss sampling work? Here is a short proof:\n",
    "\n",
    "So the idea is that we want to implement the markov chain property that (under some loose conditions) the chain will converge to a steady state. We assume that the distribution we want to sample from is a steady state of a markov chain. And we introduce $q(x,y,z)$ as a transition matrix. So, for Gibss sampling we want to prove : \n",
    "\n",
    "$p(x',y',z') = \\sum_{x,y,z} q(x,y,z \\rightarrow x',y',z') p(x,y,z)$ \n",
    "\n",
    "$q(x,y,z)$ is a conditional probabilty (following Gibss rules), so we can rewrite the bove equation as follows:\n",
    "\n",
    "$\\sum_{x,y,z} q(x,y,z \\rightarrow x',y',z') p(x,y,z) = \\sum_{x,y,z} p(x'|y= y, z=z) p(y'|x= x', z=z) p(z'|x= x', y=y') p(x,y,z)$\n",
    "\n",
    "The equation can be simplified by bringing the $p(z'|x',y')$ term out of summation as it does not depond on x, y, z any more. \n",
    "\n",
    "$\\sum_{x,y,z} p(x'|y= y, z=z) p(y'|x= x', z=z) p(z'|x= x', y=y') p(x,y,z) = p(z'|x',y')\\sum_{x,y,z} p(x'|y, z) p(y'|x', z)  p(x,y,z) $\n",
    "\n",
    "As, $p(x'|y, z) p(y'|x', z)$ dont depend on x we can simplify the summation even more:\n",
    "\n",
    "$p(z'|x',y') \\sum_{x,y,z} p(x'|y, z) p(y'|x', z) p(x,y,z) = p(z'|x',y') \\left(\\sum_{y,z} p(x'|y, z) p(y'|x', z)\\sum_{x}p(x,y,z)\\right)$\n",
    "\n",
    "$\\sum_{x}p(x,y,z)$ is the margenalization for $x$ and can be written as:\n",
    "\n",
    "$\\sum_{x}p(x,y,z) = p(y,z)$\n",
    "\n",
    "So the euqation will be more simplified as:\n",
    "\n",
    "$ p(z'|x',y') \\left(\\sum_{y,z} p(x'|y, z) p(y'|x', z)\\sum_{x}p(x,y,z)\\right) = p(z'|x',y') \\sum_{y,z} p(x'|y, z) p(y'|x', z) p(y,z)$\n",
    "\n",
    "Here:\n",
    "\n",
    "$\\sum_{y,z} p(x'|y,z)p(y,z) = \\sum_{y,z} p(x',y,z) = \\sum_{z} p(x',z)$\n",
    "\n",
    "So the equation can be simplified as:\n",
    "\n",
    "$p(z'|x',y') \\sum_{y,z} p(x'|y, z) p(y'|x', z) p(y,z) = p(z'|x',y')\\sum_{z} p(y'|x', z) p(x',z)$\n",
    "\n",
    "With the same logic:\n",
    "\n",
    "$p(z'|x',y')\\sum_{z} p(y'|x', z) p(x',z) = p(z'|x',y')p(y',x') = p(x',y',z')$\n",
    "\n",
    "So we can see that:\n",
    "\n",
    "$p(x',y',z') = \\sum_{x,y,z} q(x,y,z \\rightarrow x',y',z') p(x,y,z)$\n",
    "\n",
    "\n",
    "Now knowing that Gibss sampling works we can have an example:\n",
    "\n",
    "We are looking at the linear regression problem in which we know x (input) and y (output) and we want to find slope and intercept. \n",
    "\n",
    "We have set of $(x_{i},y_{i})$ and we know : \n",
    "$y_{i} = \\beta_{1} x_{i} + \\beta_{0}$\n",
    "We want to find $\\beta_{1}$ and $\\beta_{0}$. We assume that the two parameters are following normal distribution and $y_{i}$ is following the normal distribution as well such that:\n",
    "\n",
    "($y_{i}|x_{i}, \\beta_{0}, \\beta_{1}, \\frac{1}{\\tau}) \\rightarrow N(\\beta_{0}+\\beta_{1} x_{i}, \\frac{1}{\\tau})$\n",
    "\n",
    "$\\beta_{0} \\rightarrow N(\\mu_{0}, \\frac{1}{\\tau_{0}})$\n",
    "\n",
    "$\\beta_{1} \\rightarrow N(\\mu_{1}, \\frac{1}{\\tau_{1}})$\n",
    "\n",
    " ***So, the posteriori for $\\beta_{0}$ can be calculates as follows:***\n",
    "\n",
    "\n",
    "1) the log dependence is written as:\n",
    "\n",
    "$-\\tau/2 \\sum_{i}(y_{i}-\\beta_{0}+\\beta_{1} x_{i})^2 - \\tau_{0}/2(\\beta_{0} - \\mu_{0})^2$\n",
    "\n",
    "where the first term is likelihood from the observations and the second term is the apriori term. \n",
    "\n",
    "2) We rearrange the equation to be solved for $\\beta_{0}$:\n",
    "\n",
    "$-\\frac{\\tau}{2} \\sum_{i}(y_{i}-\\beta_{0}+\\beta_{1} x_{i})^2 - \\frac{\\tau_0}{2}(\\beta_{0} - \\mu_{0})^2 = \n",
    "-\\frac{\\tau}{2} \\sum_{i} \\left ((y_{i}-\\beta_{1} x_{i})^2 -2(y_{i}-\\beta_{1}x_{i})\\beta_0\\right) + \\beta_{0}^2 - \\frac{\\tau_0}{2} (\\beta_0^2 - 2\\mu_0 \\beta_0 + \\beta_0^2)$\n",
    "\n",
    "3) Delet all terms which are not dependent to $\\beta_0$:\n",
    "\n",
    "$-\\frac{\\tau}{2} \\sum_{i} \\left ((y_{i}-\\beta_{1} x_{i})^2 -2(y_{i}-\\beta_{1}x_{i})\\beta_0\\right) + \\beta_{0}^2 - \\frac{\\tau_0}{2} (\\beta_0^2 - 2\\mu_0 \\beta_0 + \\beta_0^2) = \\tau \\sum_{i} \\left((y_{i}-\\beta_{1}x_{i})\\beta_0 \\right) - \\frac{\\tau}{2} N\\beta_0^2 + \\tau_0 \\mu_0 \\beta_0 + \\frac{\\tau_0}{2} \\beta_0^2 $\n",
    "\n",
    "4) As the expression is a quadratic function of {\\beta_0} the conditional sampling for $\\beta_0$ will be normal:\n",
    "\n",
    "$(\\beta_{0}|x_{i}, y_{i}, \\beta_{1}, \\tau, \\tau_1, \\tau_0) \\rightarrow N(\\frac{\\tau_0\\mu_0 + \\tau \\sum_{i}(y_i - \\beta_1 x_i)}{\\tau_0 + N \\tau},\\frac{1}{\\tau_0 + N \\tau} )$\n",
    "\n",
    "And we just need to sample from this last expression\n",
    "\n",
    "*** Similarly the posterior for $\\beta_1$ can be calculated ***:\n",
    "\n",
    "1) $\\frac{-\\tau}{2}\\sum_{i} (y_i - \\beta_0 -\\beta_1 x_i)^2 - \\frac{-\\tau_1}{2} (\\beta_1 - \\mu_1)^2 = \n",
    "\\frac{-\\tau}{2} \\sum_{i} \\left((y_i-\\beta_0)^2 + (\\beta_1 x_i)^2 - 2 \\beta_1 x_i(y_i - \\beta_0) \\right) - \\frac{-\\tau_1}{2} \\beta_1^2 + \\tau_1 \\mu_1 \\beta_1 - \\frac{-\\tau_1}{2} \\mu_1^2 $\n",
    "\n",
    "2) We only take the terms which depend on $\\beta_1$ and simplify the equation as follows:\n",
    "\n",
    "$\\frac{-\\tau}{2} \\sum_i \\beta_1^2 x_i^2 + \\tau \\sum_i (y_i - \\beta_0) x_i \\beta_1 - \\frac{-\\tau_1}{2} \\beta_1^2 + \\tau_1 \\mu_1 \\beta_1$\n",
    "\n",
    "3) So we can see the normal form with respect for $\\beta_1$ now:\n",
    "\n",
    "$\\beta_1 | \\beta_0 , \\tau, \\tau_1,\\mu_1, x, y = N \\left( \\frac{\\tau_1\\mu_1 + \\tau \\sum (y_i - \\beta_0) x_i}{\\tau_1 + tau \\sum x_i^2}, \\frac{1}{\\tau_1 + \\tau \\sum_i x_i^2}\\right)$\n",
    "\n",
    "\n",
    "\n",
    "\n",
    "\n"
   ]
  },
  {
   "cell_type": "markdown",
   "metadata": {},
   "source": [
    "*** PART 2 ***"
   ]
  },
  {
   "cell_type": "code",
   "execution_count": 1,
   "metadata": {},
   "outputs": [],
   "source": [
    "import numpy as np"
   ]
  },
  {
   "cell_type": "code",
   "execution_count": 2,
   "metadata": {},
   "outputs": [],
   "source": [
    "def make_fake_data():\n",
    "        beta_0_true = 2\n",
    "        beta_1_true = -1\n",
    "        tau_true = 2.3\n",
    "        x = np.random.uniform(0,5,100)\n",
    "        y = np.random.normal(beta_0_true + beta_1_true * x, 1 / np.sqrt(tau_true))\n",
    "        \n",
    "        return x,y\n"
   ]
  },
  {
   "cell_type": "code",
   "execution_count": 3,
   "metadata": {},
   "outputs": [],
   "source": [
    "def sampler_beta_0(y, x, beta_1, tau, mu_0, tau_0):\n",
    "    \n",
    "    mean_beta_0 = (tau_0 * mu_0 + tau * np.sum(y - beta_1 * x))/(tau_0 + tau * len(x))\n",
    "    p_beta_0 = tau_0 + tau * len(x)\n",
    "    beta_0_sample = np.random.normal(mean_beta_0, 1 / np.sqrt(p_beta_0))\n",
    "    \n",
    "    return beta_0_sample"
   ]
  },
  {
   "cell_type": "code",
   "execution_count": 4,
   "metadata": {},
   "outputs": [],
   "source": [
    "def sampler_beta_1(y, x, beta_0, tau, mu_1, tau_1):\n",
    "   \n",
    "    \n",
    "    mean_beta_1 = (tau_1 * mu_1 + tau * np.sum( (y - beta_0) * x))/ (tau_1 + tau * np.sum(x * x))\n",
    "    p_beta_1 = tau_1 + tau * np.sum(x * x)\n",
    "    beta_1_sample = np.random.normal(mean_beta_1, 1 / np.sqrt(p_beta_1 ))\n",
    "    \n",
    "    return  beta_1_sample"
   ]
  },
  {
   "cell_type": "code",
   "execution_count": 30,
   "metadata": {},
   "outputs": [],
   "source": [
    "def linear_gibbs_sampling():\n",
    "    x, y = make_fake_data()\n",
    "    beta_0 = 0\n",
    "    beta_1 = 0\n",
    "    mu_0 = 1\n",
    "    mu_1 = 1\n",
    "    tau_0 = 1\n",
    "    tau = 2\n",
    "    tau_1 = 1\n",
    "    iteration = 1500\n",
    "    beta_0_list = []\n",
    "    beta_1_list = []\n",
    "    for i in range(iteration):\n",
    "        beta_0 = sampler_beta_0(y, x, beta_1, tau, mu_0, tau_0)\n",
    "        beta_1 = sampler_beta_1(y, x, beta_0, tau, mu_1, tau_1)\n",
    "        beta_0_list.append(beta_0)\n",
    "        beta_1_list.append(beta_1)\n",
    "        \n",
    "\n",
    "        \n",
    "    return beta_0_list, beta_1_list"
   ]
  },
  {
   "cell_type": "code",
   "execution_count": 31,
   "metadata": {},
   "outputs": [],
   "source": [
    "beta_0_list, beta_1_list = linear_gibbs_sampling()"
   ]
  },
  {
   "cell_type": "code",
   "execution_count": 32,
   "metadata": {},
   "outputs": [
    {
     "data": {
      "image/png": "[encoded data removed]",
      "text/plain": [
       "<Figure size 432x288 with 1 Axes>"
      ]
     },
     "metadata": {},
     "output_type": "display_data"
    }
   ],
   "source": [
    "import matplotlib.pyplot as plt\n",
    "plt.hist(beta_0_list, bins = 100)\n",
    "plt.xlim(1.2, 2.5)\n",
    "plt.show()"
   ]
  },
  {
   "cell_type": "code",
   "execution_count": 33,
   "metadata": {},
   "outputs": [
    {
     "data": {
      "image/png": "[encoded data removed]",
      "text/plain": [
       "<Figure size 432x288 with 1 Axes>"
      ]
     },
     "metadata": {},
     "output_type": "display_data"
    }
   ],
   "source": [
    "plt.hist(beta_1_list, bins = 100)\n",
    "plt.xlim(-1.1, -.8)\n",
    "plt.show()\n"
   ]
  },
  {
   "cell_type": "code",
   "execution_count": 34,
   "metadata": {},
   "outputs": [
    {
     "name": "stdout",
     "output_type": "stream",
     "text": [
      "the mean for beta_1 is: -0.955333344033549\n",
      "the mean for beta_0 is: 1.9277667877225486\n",
      "the standard deviation for beta_1 is: 0.05585218838157741\n",
      "the standard deviation for beta_0 is: 0.1866843738346787\n"
     ]
    }
   ],
   "source": [
    "print('the mean for beta_1 is:',np.mean(beta_1_list))\n",
    "print('the mean for beta_0 is:',np.mean(beta_0_list))\n",
    "print('the standard deviation for beta_1 is:',np.std(beta_1_list))\n",
    "print('the standard deviation for beta_0 is:',np.std(beta_0_list))"
   ]
  },
  {
   "cell_type": "code",
   "execution_count": null,
   "metadata": {},
   "outputs": [],
   "source": []
  }
 ],
 "metadata": {
  "kernelspec": {
   "display_name": "Python 3",
   "language": "python",
   "name": "python3"
  },
  "language_info": {
   "codemirror_mode": {
    "name": "ipython",
    "version": 3
   },
   "file_extension": ".py",
   "mimetype": "text/x-python",
   "name": "python",
   "nbconvert_exporter": "python",
   "pygments_lexer": "ipython3",
   "version": "3.6.4"
  }
 },
 "nbformat": 4,
 "nbformat_minor": 2
}
